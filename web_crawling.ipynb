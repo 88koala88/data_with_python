{
 "cells": [
  {
   "cell_type": "markdown",
   "id": "6cf67e00",
   "metadata": {},
   "source": [
    "### 출처:  도서 <이것이 데이터 분석이다 with 파이썬>  윤기태 저\n",
    "\n",
    "\n",
    "# 웹 크롤링으로 기초 데이터 수집해보기"
   ]
  },
  {
   "cell_type": "markdown",
   "id": "c59e7691",
   "metadata": {},
   "source": [
    "이번에는 '나무위키 최근 변경 페이지'의 텍스트 데이터를 웹 크롤링으로 수집한 다음, 데이터 내에서 등장한 키워드의 출현 빈도를 살펴보자. 이를 통해 우리는 나무위키 페이지에서 현재 가장 핫한 키워드가 무엇인지 알 수 있다."
   ]
  },
  {
   "cell_type": "markdown",
   "id": "47e3fbad",
   "metadata": {},
   "source": [
    "웹 크롤링 혹은 웹 스크래핑은 인터넷에 있는 웹 페이지를 방문해서 페이지의 자료를 자동으로 수집하는 작업을 의미한다."
   ]
  },
  {
   "cell_type": "markdown",
   "id": "89c5cce9",
   "metadata": {},
   "source": [
    "### 대상 페이지의 구조 살펴보기\n",
    "\n",
    "크롤링을 위한 첫번째 단계는 크롬 등의 웹 브라우저를 실행하여 크롤링의 대상이 될 페이지 구조를 살펴보는 것이다. 웹 브라우저의 '개발자 도구'를 실행하여 활용하면 된다."
   ]
  },
  {
   "cell_type": "markdown",
   "id": "8658be27",
   "metadata": {},
   "source": [
    "크롤링할 데이터는 나무위키 '최근 변경내역' 페이지(http://namu.wiki/RecentChanges)의 텍스트 데이터이다."
   ]
  },
  {
   "cell_type": "markdown",
   "id": "8f330436",
   "metadata": {},
   "source": [
    "파이썬에서는 BeatifulSoup와 request라는 라이브러리로 웹 크롤러를 만들 수 있다. requests는 특정 URL로부터 HTML 문서를 가져오는 작업을 수행하고, BeatifulSoup 모듈은 HTML 문서에서 데이터를 추출하는 작업을 수행한다. "
   ]
  },
  {
   "cell_type": "markdown",
   "id": "ec145ba6",
   "metadata": {},
   "source": [
    "requests.get() 함수로 URL의 HTML 문서를 가져온 뒤, 이를 BeatifulSoup() 클래스의 soup 객체로 변환하자. 그리고 find(), find_all() 함수를 사용하여 특정 HTML 태그 혹은 특정 HTML 클래스를 가진 데이터를 가져오자."
   ]
  },
  {
   "cell_type": "code",
   "execution_count": null,
   "id": "11fd645b",
   "metadata": {},
   "outputs": [],
   "source": [
    "from selenium import webdriver\n",
    "from bs4 import BeautifulSoup\n",
    "import re\n",
    "\n",
    "ff\n"
   ]
  }
 ],
 "metadata": {
  "kernelspec": {
   "display_name": "Python 3 (ipykernel)",
   "language": "python",
   "name": "python3"
  },
  "language_info": {
   "codemirror_mode": {
    "name": "ipython",
    "version": 3
   },
   "file_extension": ".py",
   "mimetype": "text/x-python",
   "name": "python",
   "nbconvert_exporter": "python",
   "pygments_lexer": "ipython3",
   "version": "3.9.13"
  },
  "toc": {
   "base_numbering": 1,
   "nav_menu": {},
   "number_sections": false,
   "sideBar": true,
   "skip_h1_title": false,
   "title_cell": "Table of Contents",
   "title_sidebar": "Contents",
   "toc_cell": false,
   "toc_position": {
    "height": "calc(100% - 180px)",
    "left": "10px",
    "top": "150px",
    "width": "288px"
   },
   "toc_section_display": true,
   "toc_window_display": false
  }
 },
 "nbformat": 4,
 "nbformat_minor": 5
}
