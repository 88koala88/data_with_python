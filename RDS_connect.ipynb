{
 "cells": [
  {
   "cell_type": "markdown",
   "id": "05891529",
   "metadata": {},
   "source": [
    "### AWS RDS와 파이썬 연동"
   ]
  },
  {
   "cell_type": "code",
   "execution_count": 1,
   "id": "24072fe7",
   "metadata": {},
   "outputs": [
    {
     "ename": "ModuleNotFoundError",
     "evalue": "No module named 'psycopg2'",
     "output_type": "error",
     "traceback": [
      "\u001b[0;31m---------------------------------------------------------------------------\u001b[0m",
      "\u001b[0;31mModuleNotFoundError\u001b[0m                       Traceback (most recent call last)",
      "\u001b[0;32m/tmp/ipykernel_7008/2165660006.py\u001b[0m in \u001b[0;36m<module>\u001b[0;34m\u001b[0m\n\u001b[1;32m      5\u001b[0m \u001b[0;32mimport\u001b[0m \u001b[0mbase64\u001b[0m\u001b[0;34m\u001b[0m\u001b[0;34m\u001b[0m\u001b[0m\n\u001b[1;32m      6\u001b[0m \u001b[0;32mimport\u001b[0m \u001b[0mrequests\u001b[0m\u001b[0;34m\u001b[0m\u001b[0;34m\u001b[0m\u001b[0m\n\u001b[0;32m----> 7\u001b[0;31m \u001b[0;32mimport\u001b[0m \u001b[0mpsycopg2\u001b[0m \u001b[0;32mas\u001b[0m \u001b[0mpg2\u001b[0m\u001b[0;34m\u001b[0m\u001b[0;34m\u001b[0m\u001b[0m\n\u001b[0m",
      "\u001b[0;31mModuleNotFoundError\u001b[0m: No module named 'psycopg2'"
     ]
    }
   ],
   "source": [
    "# 미리 psycopg2 모듈을 설치해줘야 한다.\n",
    "\n",
    "import sys\n",
    "import os\n",
    "\n",
    "import pandas as pd\n",
    "import base64\n",
    "import requests\n",
    "import psycopg2 as pg2"
   ]
  },
  {
   "cell_type": "code",
   "execution_count": null,
   "id": "5a25071d",
   "metadata": {},
   "outputs": [],
   "source": [
    "conn=pg2.connect(database=\"mydb\",\n",
    "                 host=\"database-2.chye2xy6xz7a.ap-northeast-2.rds.amazonaws.com\",\n",
    "                 port=\"5432\",\n",
    "                 user=\"postgres_test\",\n",
    "                 password=\"mypassword\")\n",
    "\n",
    "# database: 초기에 설정한 database 이름 / host: RDS의 엔드포인트 /port: 포트 번호, PostgreSQL의 포트번호는 5432 \n",
    "# user: 마스터 사용자의 이름 / password: 마스터 암호"
   ]
  },
  {
   "cell_type": "code",
   "execution_count": null,
   "id": "506598f7",
   "metadata": {},
   "outputs": [],
   "source": [
    "cur=conn.cursor()                \n",
    "cur.execute(\"SELECT * FROM rds_test_iris;\")\n",
    "\n",
    "#이렇게 pg2.connct()를 사용해 conn을 만들었으면 cursor를 통해 sql문을 주고 받는다. \n",
    "#이후 이 커서 객체인 cur의 execute()명령을 실행하여 SQL쿼리를 실행한다."
   ]
  },
  {
   "cell_type": "code",
   "execution_count": null,
   "id": "65963d43",
   "metadata": {},
   "outputs": [],
   "source": [
    "pd.DataFrame(cur.fetchall())\n",
    "\n",
    "#실행된 쿼리는 pd.DataFrame를 사용하여 표현해주면 rds_test_iris라고 만들어둔 iris데이터가 다음과 같이 표현되는 것을 확인할 수 있다."
   ]
  }
 ],
 "metadata": {
  "kernelspec": {
   "display_name": "Python 3 (ipykernel)",
   "language": "python",
   "name": "python3"
  },
  "language_info": {
   "codemirror_mode": {
    "name": "ipython",
    "version": 3
   },
   "file_extension": ".py",
   "mimetype": "text/x-python",
   "name": "python",
   "nbconvert_exporter": "python",
   "pygments_lexer": "ipython3",
   "version": "3.9.13"
  },
  "toc": {
   "base_numbering": 1,
   "nav_menu": {},
   "number_sections": true,
   "sideBar": true,
   "skip_h1_title": false,
   "title_cell": "Table of Contents",
   "title_sidebar": "Contents",
   "toc_cell": false,
   "toc_position": {},
   "toc_section_display": true,
   "toc_window_display": false
  }
 },
 "nbformat": 4,
 "nbformat_minor": 5
}
